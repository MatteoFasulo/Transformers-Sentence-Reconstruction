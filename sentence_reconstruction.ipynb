{
 "cells": [
  {
   "cell_type": "markdown",
   "metadata": {},
   "source": [
    "# Sentence Reconstruction\n",
    "\n",
    "### Deep Learning\n",
    "\n",
    "### Matteo Fasulo\n",
    "\n",
    "---"
   ]
  },
  {
   "cell_type": "markdown",
   "metadata": {},
   "source": [
    "The purpose of this project is to take in input a sequence of words corresponding to a random permutation of a given english sentence, and reconstruct the original sentence.\n",
    "\n",
    "The otuput can be either produced in a single shot, or through an iterative (autoregressive) loop generating a single token at a time.\n",
    "\n",
    "\n",
    "CONSTRAINTS:\n",
    "* No pretrained model can be used.\n",
    "* The neural network models should have less the 20M parameters.\n",
    "* No postprocessing should be done (e.g. no beamsearch)\n",
    "* You cannot use additional training data.\n",
    "\n",
    "\n",
    "BONUS PARAMETERS:\n",
    "\n",
    "A bonus of 0-2 points will be attributed to incentivate the adoption of models with a low number of parameters."
   ]
  },
  {
   "cell_type": "markdown",
   "metadata": {},
   "source": [
    "---\n",
    "\n",
    "# Libraries"
   ]
  },
  {
   "cell_type": "code",
   "execution_count": null,
   "metadata": {},
   "outputs": [],
   "source": [
    "!pip install -U keras-nlp tensorflow datasets"
   ]
  },
  {
   "cell_type": "code",
   "execution_count": 1,
   "metadata": {},
   "outputs": [
    {
     "name": "stderr",
     "output_type": "stream",
     "text": [
      "2024-06-11 20:18:44.000235: I tensorflow/core/platform/cpu_feature_guard.cc:210] This TensorFlow binary is optimized to use available CPU instructions in performance-critical operations.\n",
      "To enable the following instructions: FMA, in other operations, rebuild TensorFlow with the appropriate compiler flags.\n",
      "2024-06-11 20:18:45.282052: W tensorflow/compiler/tf2tensorrt/utils/py_utils.cc:38] TF-TRT Warning: Could not find TensorRT\n"
     ]
    }
   ],
   "source": [
    "import re, math, string\n",
    "\n",
    "import numpy as np\n",
    "\n",
    "from datasets import load_dataset\n",
    "\n",
    "import matplotlib.pyplot as plt\n",
    "\n",
    "import keras\n",
    "from keras.layers import Embedding, Dense, Input\n",
    "from keras.models import Model\n",
    "\n",
    "from keras_nlp.layers import TransformerEncoder, TokenAndPositionEmbedding, TransformerDecoder\n",
    "\n",
    "import tensorflow as tf\n",
    "from tensorflow.keras.optimizers import AdamW"
   ]
  },
  {
   "cell_type": "markdown",
   "metadata": {},
   "source": [
    "Due to heavy GPU memory consumption, Tensorflow has been used with the `memory_growth` option enabled as to not lock the entire GPU memory from the start."
   ]
  },
  {
   "cell_type": "code",
   "execution_count": 2,
   "metadata": {},
   "outputs": [],
   "source": [
    "# Set memory growth of GPU\n",
    "physical_devices = tf.config.list_physical_devices('GPU')\n",
    "tf.config.experimental.set_memory_growth(physical_devices[0], True)"
   ]
  },
  {
   "cell_type": "markdown",
   "metadata": {},
   "source": [
    "# Parameters\n",
    "\n",
    "First a couple of parameters are defined for the entire notebook.\n",
    "\n",
    "- `SEQ_LEN` is the (maximum) length of the input sequence (eventually padded with zeros).\n",
    "- `VOCAB_SIZE` is the size of the vocabulary (max 10000).\n",
    "\n",
    "- `EMBEDDING_DIM` is the dimension of the word embeddings.\n",
    "- `BATCH_SIZE` is the batch size.\n",
    "- `EPOCHS` is the number of epochs for training.\n",
    "- `NUM_ENC_LAYERS` is the number of layers of the encoder.\n",
    "- `NUM_DEC_LAYERS` is the number of layers of the decoder.\n",
    "- `NUM_HEADS` is the number of heads of the multihead attention mechanism.\n",
    "- `LATENT_DIM` is the dimension of the latent space of the transformer (all the feedforward layers)."
   ]
  },
  {
   "cell_type": "code",
   "execution_count": 3,
   "metadata": {},
   "outputs": [],
   "source": [
    "SEQ_LEN = 28\n",
    "VOCAB_SIZE = 10000\n",
    "\n",
    "BATCH_SIZE = 256\n",
    "EPOCHS = 50\n",
    "\n",
    "EMBEDDING_DIM = 128\n",
    "LATENT_DIM = 1024\n",
    "NUM_ENC_LAYERS = 6\n",
    "NUM_DEC_LAYERS = 6\n",
    "NUM_HEADS = 4"
   ]
  },
  {
   "cell_type": "markdown",
   "metadata": {},
   "source": [
    "### Special Tokens"
   ]
  },
  {
   "cell_type": "markdown",
   "metadata": {},
   "source": [
    "Before processing the text, a couple of special tokens are defined. These tokens are used to mark the beginning and end of the sentences as well as encoding comma which otherwise would be removed when preprocessing the text with punctuation removal."
   ]
  },
  {
   "cell_type": "code",
   "execution_count": 4,
   "metadata": {},
   "outputs": [],
   "source": [
    "class Tokens:\n",
    "    START = '<start>'\n",
    "    END = '<end>'\n",
    "    COMMA = '<comma>'"
   ]
  },
  {
   "cell_type": "markdown",
   "metadata": {},
   "source": [
    "# Dataset\n",
    "\n",
    "The dataset is composed by sentences taken from the generics_kb dataset of hugging face. We restricted the vocabolary to the 10K most frequent words, and only took sentences making use of this vocabulary."
   ]
  },
  {
   "cell_type": "markdown",
   "metadata": {},
   "source": [
    "First we load the dataset and preprocess it by filtering only the sentences that have at least 9 words."
   ]
  },
  {
   "cell_type": "code",
   "execution_count": 5,
   "metadata": {},
   "outputs": [],
   "source": [
    "# Load the dataset\n",
    "ds = load_dataset('generics_kb', trust_remote_code=True)['train']\n",
    "\n",
    "# Filter out sentences that are too short\n",
    "ds = ds.filter(lambda row: len(row[\"generic_sentence\"].split(\" \")) > 8)"
   ]
  },
  {
   "cell_type": "markdown",
   "metadata": {},
   "source": [
    "## Preprocessing"
   ]
  },
  {
   "cell_type": "markdown",
   "metadata": {},
   "source": [
    "Then we can add the start and end tokens to the sentences. Replacing comma with a special token to avoid its removal during preprocessing.\n",
    "\n",
    "The entire process is vectorized to speed up the procedure."
   ]
  },
  {
   "cell_type": "code",
   "execution_count": 6,
   "metadata": {},
   "outputs": [],
   "source": [
    "# Define a vectorized function\n",
    "vec_func = np.vectorize(\n",
    "    lambda x: f'{Tokens.START} ' + x.replace(',', f' {Tokens.COMMA}') + f' {Tokens.END}')\n",
    "\n",
    "# Apply the function to the 'generic_sentence' column of the DataFrame\n",
    "corpus = vec_func(ds['generic_sentence'])"
   ]
  },
  {
   "cell_type": "markdown",
   "metadata": {},
   "source": [
    "The custom preprocessing function is applied to the dataset. Instead of removing all the punctuation, we replace the comma with a special token as well as the greater and smaller signs. The rest of the punctuation is removed and all the sentences are lowercased."
   ]
  },
  {
   "cell_type": "code",
   "execution_count": 7,
   "metadata": {},
   "outputs": [],
   "source": [
    "def custom_preprocessing(text):\n",
    "    \"\"\"\n",
    "    Preprocesses the given text by removing punctuation and converting it to lowercase.\n",
    "\n",
    "    Args:\n",
    "        text (str): The input text to be preprocessed.\n",
    "\n",
    "    Returns:\n",
    "        str: The preprocessed text.\n",
    "    \"\"\"\n",
    "    chars = string.punctuation\n",
    "    chars = chars.replace(\",\", \"\")\n",
    "    chars = chars.replace(\"<\", \"\")\n",
    "    chars = chars.replace(\">\", \"\")\n",
    "    # Remove punctuation\n",
    "    text = tf.strings.regex_replace(text, '[%s]' % re.escape(chars), '')\n",
    "    # Lowercase\n",
    "    text = tf.strings.lower(text)\n",
    "    return text"
   ]
  },
  {
   "cell_type": "markdown",
   "metadata": {},
   "source": [
    "## Text Vectorization\n",
    "\n",
    "After preprocessing the text, we can vectorize it using `TextVectorization` layer from tensorflow to convert the text to a sequence of integers. This operation is applied after adding the special tokens as to have them encoded as well into the vocabulary. The vocabulary size is 10K and if the sentences are shorter than the maximum length, they are padded with zeros by means of `output_sequence_length` and the `pad_to_max_tokens` parameters.\n",
    "\n",
    "In this case, the output will be integers each of them representing a word in the vocabulary."
   ]
  },
  {
   "cell_type": "code",
   "execution_count": 8,
   "metadata": {},
   "outputs": [
    {
     "name": "stderr",
     "output_type": "stream",
     "text": [
      "2024-06-11 20:18:58.467831: I tensorflow/core/common_runtime/gpu/gpu_device.cc:1928] Created device /job:localhost/replica:0/task:0/device:GPU:0 with 8251 MB memory:  -> device: 0, name: NVIDIA GeForce RTX 3080, pci bus id: 0000:01:00.0, compute capability: 8.6\n"
     ]
    }
   ],
   "source": [
    "# Create a TextVectorization layer\n",
    "tokenizer = tf.keras.layers.TextVectorization(\n",
    "    max_tokens=VOCAB_SIZE,\n",
    "    standardize=custom_preprocessing,\n",
    "    output_sequence_length=SEQ_LEN,\n",
    "    output_mode='int',\n",
    "    pad_to_max_tokens=True,\n",
    ")\n",
    "\n",
    "# Adapt the layer to the dataset\n",
    "tokenizer.adapt(corpus)"
   ]
  },
  {
   "cell_type": "markdown",
   "metadata": {},
   "source": [
    "We can also inspect the vocabulary and the first 10 most frequent words."
   ]
  },
  {
   "cell_type": "code",
   "execution_count": 9,
   "metadata": {},
   "outputs": [
    {
     "data": {
      "text/plain": [
       "['', '[UNK]', '<start>', '<end>', 'the', 'of', 'and', '<comma>', 'is', 'to']"
      ]
     },
     "execution_count": 9,
     "metadata": {},
     "output_type": "execute_result"
    }
   ],
   "source": [
    "vocab = tokenizer.get_vocabulary()\n",
    "vocab[:10]"
   ]
  },
  {
   "cell_type": "markdown",
   "metadata": {},
   "source": [
    "## Text Detokenizer\n",
    "\n",
    "To convert the integers back to text, we can define a custom detokenizer function that takes in input the integers and returns the corresponding text. This function is used to convert the output of the model back to text."
   ]
  },
  {
   "cell_type": "code",
   "execution_count": 10,
   "metadata": {},
   "outputs": [],
   "source": [
    "class TextDetokenizer:\n",
    "    def __init__(self, vectorize_layer):\n",
    "        self.vectorize_layer = vectorize_layer\n",
    "        vocab = self.vectorize_layer.get_vocabulary()\n",
    "        self.index_to_word = {index: word for index, word in enumerate(vocab)}\n",
    "\n",
    "    def __detokenize_tokens(self, tokens):\n",
    "        def check_token(t):\n",
    "            if t == 2:\n",
    "                s = \"<start>\"\n",
    "            elif t == 3:\n",
    "                s = \"<end>\"\n",
    "            elif t == 7:\n",
    "                s = \"<comma>\"\n",
    "            else:\n",
    "                s = self.index_to_word.get(t, '[UNK]')\n",
    "            return s\n",
    "\n",
    "        return ' '.join([check_token(token) for token in tokens if token != 0])\n",
    "\n",
    "    def __call__(self, batch_tokens):\n",
    "        return [self.__detokenize_tokens(tokens) for tokens in batch_tokens]"
   ]
  },
  {
   "cell_type": "code",
   "execution_count": 11,
   "metadata": {},
   "outputs": [],
   "source": [
    "detokenizer = TextDetokenizer(tokenizer)"
   ]
  },
  {
   "cell_type": "markdown",
   "metadata": {},
   "source": [
    "### Problem with OOV\n",
    "\n",
    "The model will not be able to generate words that are not in the vocabulary. To overcome this issue, we can remove from our dataset all the sentences that contain words not in the vocabulary. This way we can avoid the model to generate OOV tokens.\n",
    "\n",
    "In the following cell, we first encode all the sentences and then check if there are more than 1 [UNK] token in the sentence. If so, we discard the sentence."
   ]
  },
  {
   "cell_type": "code",
   "execution_count": 12,
   "metadata": {},
   "outputs": [
    {
     "data": {
      "text/plain": [
       "(241194, 28)"
      ]
     },
     "execution_count": 12,
     "metadata": {},
     "output_type": "execute_result"
    }
   ],
   "source": [
    "# Convert the text to tokens\n",
    "sentences = tokenizer( corpus ).numpy()\n",
    "\n",
    "# Find sentences with more than one [UNK] token\n",
    "mask = np.sum( (sentences==1), axis=1) >= 1\n",
    "\n",
    "# Remove them from the dataset\n",
    "original_data = np.delete( sentences, mask , axis=0)\n",
    "\n",
    "original_data.shape"
   ]
  },
  {
   "cell_type": "markdown",
   "metadata": {},
   "source": [
    "## Data Generator\n",
    "\n",
    "The original data generator was modified changing the inheriting class from `keras.utils.Sequence` to `keras.utils.PyDataset` which is supported in Keras 3 for passing directly the data to the model `fit` method.\n",
    "\n",
    "Changes applied to the generator:\n",
    "\n",
    "- `math.ceil` is used during the computation of the number of batches of the dataset.\n",
    "- `__getitem__` now returns a tuple `(enc_in, dec_in), dec_out` with encoder and decoder inputs and decoder output.\n",
    "\n",
    "More in detail, the generator returns the following:\n",
    "\n",
    "* The input of the encoder is the shuffled sentence.\n",
    "* the input of the decoder is the original sentence. \n",
    "* The output of the decoder is the original sentence shifted by one position (including end token but not start token)."
   ]
  },
  {
   "cell_type": "code",
   "execution_count": 13,
   "metadata": {},
   "outputs": [],
   "source": [
    "class DataGenerator(keras.utils.PyDataset):\n",
    "    def __init__(self, data, batch_size=32, shuffle=True, seed=42, **kwargs):\n",
    "        super().__init__(**kwargs)\n",
    "        self.data = data\n",
    "        self.batch_size = batch_size\n",
    "        self.shuffle = shuffle\n",
    "        self.seed = seed\n",
    "        self.on_epoch_end()\n",
    "\n",
    "    def __len__(self):\n",
    "        return math.ceil(len(self.data) / self.batch_size)\n",
    "\n",
    "    def __getitem__(self, index):\n",
    "        indexes = self.indexes[index*self.batch_size:(index+1)*self.batch_size]\n",
    "\n",
    "        data_batch = np.array([self.data[k] for k in indexes], dtype=np.int16)\n",
    "        # copy of ordered sequences\n",
    "        result = np.copy(data_batch)\n",
    "\n",
    "        # shuffle only the relevant positions for each batch\n",
    "        for i in range(data_batch.shape[0]):\n",
    "            np.random.shuffle(data_batch[i, 1:data_batch[i].argmin() - 1])\n",
    "\n",
    "        # (encoder_input, decoder_input), decoder_output\n",
    "        encoder_input = data_batch\n",
    "        decoder_input = np.copy(result)\n",
    "        decoder_output = np.copy(result)\n",
    "        decoder_output = decoder_output[:, 1:]\n",
    "\n",
    "        # Add a column of zeros at the end\n",
    "        decoder_output = np.pad(decoder_output, [[0, 0], [0, 1]], mode='constant')\n",
    "\n",
    "        return (encoder_input, decoder_input), decoder_output\n",
    "\n",
    "    def on_epoch_end(self):\n",
    "        self.indexes = np.arange(len(self.data))\n",
    "        if self.shuffle:\n",
    "            if self.seed is not None:\n",
    "                np.random.seed(self.seed)\n",
    "            np.random.shuffle(self.indexes)"
   ]
  },
  {
   "cell_type": "markdown",
   "metadata": {},
   "source": [
    "## Shuffle data\n",
    "\n",
    "The entire dataset is shuffled and split into training and validation sets. The training set contains 220K sentences and the validation set 15K sentences. Both the generators share the same batch size for simplicity."
   ]
  },
  {
   "cell_type": "code",
   "execution_count": 14,
   "metadata": {},
   "outputs": [],
   "source": [
    "# Make a random permutation of training and test set\n",
    "np.random.seed(42)\n",
    "# Shuffle the all data\n",
    "shuffled_indices = np.random.permutation(len(original_data))\n",
    "shuffled_data = original_data[shuffled_indices]"
   ]
  },
  {
   "cell_type": "code",
   "execution_count": 15,
   "metadata": {},
   "outputs": [],
   "source": [
    "# Split the data into training and validation sets\n",
    "train_generator = DataGenerator(shuffled_data[:220000], batch_size=BATCH_SIZE)\n",
    "val_generator = DataGenerator(shuffled_data[220000:235000], batch_size=BATCH_SIZE)"
   ]
  },
  {
   "cell_type": "markdown",
   "metadata": {},
   "source": [
    "# Metrics"
   ]
  },
  {
   "cell_type": "markdown",
   "metadata": {},
   "source": [
    "Let s be the source string and p your prediction. The quality of the results will be measured according to the following metric:\n",
    "\n",
    "1.  look for the longest substring w between s and p\n",
    "2.  compute |w|/max(|s|,|p|)\n",
    "\n",
    "If the match is exact, the score is 1.\n",
    "\n",
    "When computing the score, the start and end tokens are not considered."
   ]
  },
  {
   "cell_type": "code",
   "execution_count": 16,
   "metadata": {},
   "outputs": [],
   "source": [
    "from difflib import SequenceMatcher\n",
    "\n",
    "\n",
    "def score(s, p):\n",
    "    match = SequenceMatcher(None, s, p).find_longest_match()\n",
    "    # print(match.size)\n",
    "    return (match.size/max(len(p), len(s)))"
   ]
  },
  {
   "cell_type": "markdown",
   "metadata": {},
   "source": [
    "Example of the metric:"
   ]
  },
  {
   "cell_type": "code",
   "execution_count": 17,
   "metadata": {},
   "outputs": [
    {
     "name": "stdout",
     "output_type": "stream",
     "text": [
      "your score is  0.5423728813559322\n"
     ]
    }
   ],
   "source": [
    "original = \"at first henry wanted to be friends with the king of france\"\n",
    "generated = \"henry wanted to be friends with king of france at the first\"\n",
    "\n",
    "print(\"your score is \", score(original, generated))"
   ]
  },
  {
   "cell_type": "markdown",
   "metadata": {},
   "source": [
    "# Model\n",
    "\n",
    "The model is composed by an encoder-decoder architecture with a transformer as the main component. The encoder is composed by a stack of `NUM_ENC_LAYERS` layers, each of them composed by a multihead attention mechanism and a feedforward layer. The decoder is composed by a stack of `NUM_DEC_LAYERS` layers, each of them composed by a multihead attention mechanism, a feedforward layer and an additional multihead attention mechanism that takes the encoder output as input. \n",
    "\n",
    "The output of the decoder is passed through a dense layer without activation function to produce the logits.\n",
    "\n",
    "Due to the fact that the input sequence is shuffled, the encoder does not have a Positional Encoding layer but just an Embedding layer. The decoder instead has both the Embedding layer and the Positional Encoding layer as to take into account the position of the words in the (correct) sentence."
   ]
  },
  {
   "cell_type": "code",
   "execution_count": 18,
   "metadata": {},
   "outputs": [],
   "source": [
    "def create_transformer(embedding_dim, number_encoding_layers, number_decoding_layers, number_heads, dff, seq_len, vocab_size, dropout_rate):\n",
    "    \"\"\"\n",
    "    Create a transformer model for sentence reconstruction.\n",
    "\n",
    "    Args:\n",
    "        embedding_dim (int): The dimensionality of the token embeddings.\n",
    "        number_encoding_layers (int): The number of encoding layers in the transformer.\n",
    "        number_decoding_layers (int): The number of decoding layers in the transformer.\n",
    "        number_heads (int): The number of attention heads in the transformer.\n",
    "        dff (int): The dimensionality of the feed-forward network in the transformer.\n",
    "        seq_len (int): The length of the input sequences.\n",
    "        vocab_size (int): The size of the vocabulary.\n",
    "        dropout_rate (float): The dropout rate to apply in the transformer.\n",
    "\n",
    "    Returns:\n",
    "        model (keras.Model): The created transformer model.\n",
    "\n",
    "    \"\"\"\n",
    "    # Encoder input\n",
    "    enc_id_input = Input(\n",
    "      shape=(seq_len,),\n",
    "      name=\"token_id_enc\",\n",
    "    )\n",
    "\n",
    "    # Decoder input\n",
    "    dec_id_input = Input(\n",
    "        shape=(seq_len,),\n",
    "        name=\"token_id_dec\",\n",
    "    )\n",
    "\n",
    "    # Encoder Token Embedding, no Position Embedding since the input is shuffled\n",
    "    emb_enc = Embedding(\n",
    "        input_dim=vocab_size,\n",
    "        output_dim=embedding_dim\n",
    "        )(enc_id_input)\n",
    "\n",
    "    # Stack the encoder layers\n",
    "    encoder_layers = []\n",
    "    for i in range(number_encoding_layers):\n",
    "        encoder_layer = TransformerEncoder(\n",
    "        num_heads=number_heads,\n",
    "        intermediate_dim=dff,\n",
    "        dropout=dropout_rate,\n",
    "        name=\"encoder\"+str(i)\n",
    "        )\n",
    "        encoder_layers.append(encoder_layer)\n",
    "\n",
    "    # Apply encoder layers\n",
    "    encoder_seq = emb_enc\n",
    "    for encoder_layer in encoder_layers:\n",
    "        encoder_seq = encoder_layer(encoder_seq)\n",
    "\n",
    "    # Decoder Token and Position Embedding\n",
    "    emb_dec = TokenAndPositionEmbedding(\n",
    "      vocabulary_size=vocab_size,\n",
    "      sequence_length=seq_len,\n",
    "      embedding_dim=embedding_dim,\n",
    "      name=\"dec_emb\",\n",
    "    )(dec_id_input)\n",
    "    # Stack the decoder layers\n",
    "    decoder_layers = []\n",
    "    for i in range(number_decoding_layers):\n",
    "        decoder_layer = TransformerDecoder(\n",
    "        num_heads=number_heads,\n",
    "        intermediate_dim=dff,\n",
    "        dropout=dropout_rate,\n",
    "        name=\"decoder\"+str(i)\n",
    "        )\n",
    "        decoder_layers.append(decoder_layer)\n",
    "    # Apply decoder layers\n",
    "    decoder_seq = emb_dec\n",
    "    for decoder_layer in decoder_layers:\n",
    "        decoder_seq = decoder_layer(encoder_sequence=encoder_seq, decoder_sequence=decoder_seq)\n",
    "\n",
    "    # Output layer with simple Dense layer\n",
    "    outputs = Dense(vocab_size)(decoder_seq)\n",
    "\n",
    "    model = Model(inputs=[enc_id_input, dec_id_input], outputs=outputs)\n",
    "    model.summary()\n",
    "    return model"
   ]
  },
  {
   "cell_type": "markdown",
   "metadata": {},
   "source": [
    "## Learning Rate Scheduler\n",
    "\n",
    "THe following learning rate scheduler from the original Transformer paper is used. The learning rate is increased linearly in the first `warmup_steps` steps and then decreased proportionally to the inverse square root of the step number."
   ]
  },
  {
   "cell_type": "code",
   "execution_count": 19,
   "metadata": {},
   "outputs": [],
   "source": [
    "class CustomSchedule(tf.keras.optimizers.schedules.LearningRateSchedule):\n",
    "  def __init__(self, d_model, warmup_steps=4000):\n",
    "    super().__init__()\n",
    "\n",
    "    self.d_model = d_model\n",
    "    self.warmup_steps = warmup_steps\n",
    "\n",
    "  def __call__(self, step):\n",
    "    step = tf.cast(step, dtype=tf.float32)\n",
    "    arg1 = tf.math.rsqrt(step)\n",
    "    arg2 = step * tf.cast((self.warmup_steps ** -1.5), dtype=tf.float32)\n",
    "    \n",
    "    return tf.math.rsqrt(tf.cast(self.d_model, dtype=tf.float32)) * tf.math.minimum(arg1, arg2)"
   ]
  },
  {
   "cell_type": "markdown",
   "metadata": {},
   "source": [
    "## Loss Function and Accuracy\n",
    "\n",
    "Even if the we pass to the model the sequences as tensors of integers, the loss function is computed on the one-hot encoded version of the (true) sequence. This allows to introduce the label smoothing technique to avoid overfitting as described in the [paper](https://arxiv.org/abs/1706.03762).\n",
    "\n",
    "Regarding the accuracy, it is a masked accuracy where we check if the predicted token is equal to the true token only if the true token is not a padding token and the operation is performed on the entire sequence element-wise.\n",
    "\n",
    "For both the loss and the accuracy, an average is then computed to get a single scalar value."
   ]
  },
  {
   "cell_type": "code",
   "execution_count": 20,
   "metadata": {},
   "outputs": [],
   "source": [
    "def masked_loss(label, pred):\n",
    "    \"\"\"\n",
    "    Calculates the masked loss for a given label and prediction.\n",
    "\n",
    "    Args:\n",
    "        label: The true label values.\n",
    "        pred: The predicted values.\n",
    "\n",
    "    Returns:\n",
    "        The masked loss value.\n",
    "\n",
    "    \"\"\"\n",
    "    label = tf.cast(label, tf.int64)\n",
    "    mask = label != 0\n",
    "    loss_object = tf.keras.losses.CategoricalCrossentropy(from_logits=True, reduction='none', label_smoothing=0.1)\n",
    "    label = tf.one_hot(label, depth=VOCAB_SIZE)\n",
    "    loss = loss_object(label, pred)\n",
    "\n",
    "    mask = tf.cast(mask, dtype=loss.dtype)\n",
    "    loss *= mask\n",
    "\n",
    "    res = tf.reduce_sum(loss)/tf.reduce_sum(mask)\n",
    "\n",
    "    return res\n",
    "\n",
    "\n",
    "def masked_accuracy(label, pred):\n",
    "    \"\"\"\n",
    "    Calculates the masked accuracy of the predicted labels.\n",
    "\n",
    "    Args:\n",
    "        label (tf.Tensor): The true labels.\n",
    "        pred (tf.Tensor): The predicted labels.\n",
    "\n",
    "    Returns:\n",
    "        tf.Tensor: The masked accuracy.\n",
    "\n",
    "    \"\"\"\n",
    "    pred = tf.argmax(pred, axis=2)\n",
    "    label = tf.cast(label, pred.dtype)\n",
    "    # Match is when the prediction is equal to the label\n",
    "    match = tf.math.equal(label, pred)\n",
    "\n",
    "    mask = tf.math.logical_not(tf.math.equal(label, 0))\n",
    "\n",
    "    match = match & mask\n",
    "\n",
    "    match = tf.cast(match, dtype=tf.float32)\n",
    "    mask = tf.cast(mask, dtype=tf.float32)\n",
    "    return tf.reduce_sum(match)/tf.reduce_sum(mask)"
   ]
  },
  {
   "cell_type": "markdown",
   "metadata": {},
   "source": [
    "## Compile and run the model"
   ]
  },
  {
   "cell_type": "markdown",
   "metadata": {},
   "source": [
    "Now we can instantiate the model and compile it using the AdamW optimizer and the custom loss function. The model is then trained for `EPOCHS` epochs using the training and validation generators.\n",
    "\n",
    "A small dropout is applied to the output of the encoder and the output of the decoder to avoid overfitting.\n",
    "\n",
    "AdamW parameters are set to the one from the original paper. To better avoid the overfitting, the model integrates weight decay."
   ]
  },
  {
   "cell_type": "code",
   "execution_count": 21,
   "metadata": {},
   "outputs": [
    {
     "data": {
      "text/html": [
       "<pre style=\"white-space:pre;overflow-x:auto;line-height:normal;font-family:Menlo,'DejaVu Sans Mono',consolas,'Courier New',monospace\"><span style=\"font-weight: bold\">Model: \"functional_1\"</span>\n",
       "</pre>\n"
      ],
      "text/plain": [
       "\u001b[1mModel: \"functional_1\"\u001b[0m\n"
      ]
     },
     "metadata": {},
     "output_type": "display_data"
    },
    {
     "data": {
      "text/html": [
       "<pre style=\"white-space:pre;overflow-x:auto;line-height:normal;font-family:Menlo,'DejaVu Sans Mono',consolas,'Courier New',monospace\">┏━━━━━━━━━━━━━━━━━━━━━┳━━━━━━━━━━━━━━━━━━━┳━━━━━━━━━━━━┳━━━━━━━━━━━━━━━━━━━┓\n",
       "┃<span style=\"font-weight: bold\"> Layer (type)        </span>┃<span style=\"font-weight: bold\"> Output Shape      </span>┃<span style=\"font-weight: bold\">    Param # </span>┃<span style=\"font-weight: bold\"> Connected to      </span>┃\n",
       "┡━━━━━━━━━━━━━━━━━━━━━╇━━━━━━━━━━━━━━━━━━━╇━━━━━━━━━━━━╇━━━━━━━━━━━━━━━━━━━┩\n",
       "│ token_id_enc        │ (<span style=\"color: #00d7ff; text-decoration-color: #00d7ff\">None</span>, <span style=\"color: #00af00; text-decoration-color: #00af00\">28</span>)        │          <span style=\"color: #00af00; text-decoration-color: #00af00\">0</span> │ -                 │\n",
       "│ (<span style=\"color: #0087ff; text-decoration-color: #0087ff\">InputLayer</span>)        │                   │            │                   │\n",
       "├─────────────────────┼───────────────────┼────────────┼───────────────────┤\n",
       "│ embedding           │ (<span style=\"color: #00d7ff; text-decoration-color: #00d7ff\">None</span>, <span style=\"color: #00af00; text-decoration-color: #00af00\">28</span>, <span style=\"color: #00af00; text-decoration-color: #00af00\">128</span>)   │  <span style=\"color: #00af00; text-decoration-color: #00af00\">1,280,000</span> │ token_id_enc[<span style=\"color: #00af00; text-decoration-color: #00af00\">0</span>][<span style=\"color: #00af00; text-decoration-color: #00af00\">…</span> │\n",
       "│ (<span style=\"color: #0087ff; text-decoration-color: #0087ff\">Embedding</span>)         │                   │            │                   │\n",
       "├─────────────────────┼───────────────────┼────────────┼───────────────────┤\n",
       "│ encoder0            │ (<span style=\"color: #00d7ff; text-decoration-color: #00d7ff\">None</span>, <span style=\"color: #00af00; text-decoration-color: #00af00\">28</span>, <span style=\"color: #00af00; text-decoration-color: #00af00\">128</span>)   │    <span style=\"color: #00af00; text-decoration-color: #00af00\">329,856</span> │ embedding[<span style=\"color: #00af00; text-decoration-color: #00af00\">0</span>][<span style=\"color: #00af00; text-decoration-color: #00af00\">0</span>]   │\n",
       "│ (<span style=\"color: #0087ff; text-decoration-color: #0087ff\">TransformerEncode…</span> │                   │            │                   │\n",
       "├─────────────────────┼───────────────────┼────────────┼───────────────────┤\n",
       "│ encoder1            │ (<span style=\"color: #00d7ff; text-decoration-color: #00d7ff\">None</span>, <span style=\"color: #00af00; text-decoration-color: #00af00\">28</span>, <span style=\"color: #00af00; text-decoration-color: #00af00\">128</span>)   │    <span style=\"color: #00af00; text-decoration-color: #00af00\">329,856</span> │ encoder0[<span style=\"color: #00af00; text-decoration-color: #00af00\">0</span>][<span style=\"color: #00af00; text-decoration-color: #00af00\">0</span>]    │\n",
       "│ (<span style=\"color: #0087ff; text-decoration-color: #0087ff\">TransformerEncode…</span> │                   │            │                   │\n",
       "├─────────────────────┼───────────────────┼────────────┼───────────────────┤\n",
       "│ encoder2            │ (<span style=\"color: #00d7ff; text-decoration-color: #00d7ff\">None</span>, <span style=\"color: #00af00; text-decoration-color: #00af00\">28</span>, <span style=\"color: #00af00; text-decoration-color: #00af00\">128</span>)   │    <span style=\"color: #00af00; text-decoration-color: #00af00\">329,856</span> │ encoder1[<span style=\"color: #00af00; text-decoration-color: #00af00\">0</span>][<span style=\"color: #00af00; text-decoration-color: #00af00\">0</span>]    │\n",
       "│ (<span style=\"color: #0087ff; text-decoration-color: #0087ff\">TransformerEncode…</span> │                   │            │                   │\n",
       "├─────────────────────┼───────────────────┼────────────┼───────────────────┤\n",
       "│ encoder3            │ (<span style=\"color: #00d7ff; text-decoration-color: #00d7ff\">None</span>, <span style=\"color: #00af00; text-decoration-color: #00af00\">28</span>, <span style=\"color: #00af00; text-decoration-color: #00af00\">128</span>)   │    <span style=\"color: #00af00; text-decoration-color: #00af00\">329,856</span> │ encoder2[<span style=\"color: #00af00; text-decoration-color: #00af00\">0</span>][<span style=\"color: #00af00; text-decoration-color: #00af00\">0</span>]    │\n",
       "│ (<span style=\"color: #0087ff; text-decoration-color: #0087ff\">TransformerEncode…</span> │                   │            │                   │\n",
       "├─────────────────────┼───────────────────┼────────────┼───────────────────┤\n",
       "│ token_id_dec        │ (<span style=\"color: #00d7ff; text-decoration-color: #00d7ff\">None</span>, <span style=\"color: #00af00; text-decoration-color: #00af00\">28</span>)        │          <span style=\"color: #00af00; text-decoration-color: #00af00\">0</span> │ -                 │\n",
       "│ (<span style=\"color: #0087ff; text-decoration-color: #0087ff\">InputLayer</span>)        │                   │            │                   │\n",
       "├─────────────────────┼───────────────────┼────────────┼───────────────────┤\n",
       "│ encoder4            │ (<span style=\"color: #00d7ff; text-decoration-color: #00d7ff\">None</span>, <span style=\"color: #00af00; text-decoration-color: #00af00\">28</span>, <span style=\"color: #00af00; text-decoration-color: #00af00\">128</span>)   │    <span style=\"color: #00af00; text-decoration-color: #00af00\">329,856</span> │ encoder3[<span style=\"color: #00af00; text-decoration-color: #00af00\">0</span>][<span style=\"color: #00af00; text-decoration-color: #00af00\">0</span>]    │\n",
       "│ (<span style=\"color: #0087ff; text-decoration-color: #0087ff\">TransformerEncode…</span> │                   │            │                   │\n",
       "├─────────────────────┼───────────────────┼────────────┼───────────────────┤\n",
       "│ dec_emb             │ (<span style=\"color: #00d7ff; text-decoration-color: #00d7ff\">None</span>, <span style=\"color: #00af00; text-decoration-color: #00af00\">28</span>, <span style=\"color: #00af00; text-decoration-color: #00af00\">128</span>)   │  <span style=\"color: #00af00; text-decoration-color: #00af00\">1,283,584</span> │ token_id_dec[<span style=\"color: #00af00; text-decoration-color: #00af00\">0</span>][<span style=\"color: #00af00; text-decoration-color: #00af00\">…</span> │\n",
       "│ (<span style=\"color: #0087ff; text-decoration-color: #0087ff\">TokenAndPositionE…</span> │                   │            │                   │\n",
       "├─────────────────────┼───────────────────┼────────────┼───────────────────┤\n",
       "│ encoder5            │ (<span style=\"color: #00d7ff; text-decoration-color: #00d7ff\">None</span>, <span style=\"color: #00af00; text-decoration-color: #00af00\">28</span>, <span style=\"color: #00af00; text-decoration-color: #00af00\">128</span>)   │    <span style=\"color: #00af00; text-decoration-color: #00af00\">329,856</span> │ encoder4[<span style=\"color: #00af00; text-decoration-color: #00af00\">0</span>][<span style=\"color: #00af00; text-decoration-color: #00af00\">0</span>]    │\n",
       "│ (<span style=\"color: #0087ff; text-decoration-color: #0087ff\">TransformerEncode…</span> │                   │            │                   │\n",
       "├─────────────────────┼───────────────────┼────────────┼───────────────────┤\n",
       "│ decoder0            │ (<span style=\"color: #00d7ff; text-decoration-color: #00d7ff\">None</span>, <span style=\"color: #00af00; text-decoration-color: #00af00\">28</span>, <span style=\"color: #00af00; text-decoration-color: #00af00\">128</span>)   │    <span style=\"color: #00af00; text-decoration-color: #00af00\">396,160</span> │ dec_emb[<span style=\"color: #00af00; text-decoration-color: #00af00\">0</span>][<span style=\"color: #00af00; text-decoration-color: #00af00\">0</span>],    │\n",
       "│ (<span style=\"color: #0087ff; text-decoration-color: #0087ff\">TransformerDecode…</span> │                   │            │ encoder5[<span style=\"color: #00af00; text-decoration-color: #00af00\">0</span>][<span style=\"color: #00af00; text-decoration-color: #00af00\">0</span>]    │\n",
       "├─────────────────────┼───────────────────┼────────────┼───────────────────┤\n",
       "│ decoder1            │ (<span style=\"color: #00d7ff; text-decoration-color: #00d7ff\">None</span>, <span style=\"color: #00af00; text-decoration-color: #00af00\">28</span>, <span style=\"color: #00af00; text-decoration-color: #00af00\">128</span>)   │    <span style=\"color: #00af00; text-decoration-color: #00af00\">396,160</span> │ decoder0[<span style=\"color: #00af00; text-decoration-color: #00af00\">0</span>][<span style=\"color: #00af00; text-decoration-color: #00af00\">0</span>],   │\n",
       "│ (<span style=\"color: #0087ff; text-decoration-color: #0087ff\">TransformerDecode…</span> │                   │            │ encoder5[<span style=\"color: #00af00; text-decoration-color: #00af00\">0</span>][<span style=\"color: #00af00; text-decoration-color: #00af00\">0</span>]    │\n",
       "├─────────────────────┼───────────────────┼────────────┼───────────────────┤\n",
       "│ decoder2            │ (<span style=\"color: #00d7ff; text-decoration-color: #00d7ff\">None</span>, <span style=\"color: #00af00; text-decoration-color: #00af00\">28</span>, <span style=\"color: #00af00; text-decoration-color: #00af00\">128</span>)   │    <span style=\"color: #00af00; text-decoration-color: #00af00\">396,160</span> │ decoder1[<span style=\"color: #00af00; text-decoration-color: #00af00\">0</span>][<span style=\"color: #00af00; text-decoration-color: #00af00\">0</span>],   │\n",
       "│ (<span style=\"color: #0087ff; text-decoration-color: #0087ff\">TransformerDecode…</span> │                   │            │ encoder5[<span style=\"color: #00af00; text-decoration-color: #00af00\">0</span>][<span style=\"color: #00af00; text-decoration-color: #00af00\">0</span>]    │\n",
       "├─────────────────────┼───────────────────┼────────────┼───────────────────┤\n",
       "│ decoder3            │ (<span style=\"color: #00d7ff; text-decoration-color: #00d7ff\">None</span>, <span style=\"color: #00af00; text-decoration-color: #00af00\">28</span>, <span style=\"color: #00af00; text-decoration-color: #00af00\">128</span>)   │    <span style=\"color: #00af00; text-decoration-color: #00af00\">396,160</span> │ decoder2[<span style=\"color: #00af00; text-decoration-color: #00af00\">0</span>][<span style=\"color: #00af00; text-decoration-color: #00af00\">0</span>],   │\n",
       "│ (<span style=\"color: #0087ff; text-decoration-color: #0087ff\">TransformerDecode…</span> │                   │            │ encoder5[<span style=\"color: #00af00; text-decoration-color: #00af00\">0</span>][<span style=\"color: #00af00; text-decoration-color: #00af00\">0</span>]    │\n",
       "├─────────────────────┼───────────────────┼────────────┼───────────────────┤\n",
       "│ decoder4            │ (<span style=\"color: #00d7ff; text-decoration-color: #00d7ff\">None</span>, <span style=\"color: #00af00; text-decoration-color: #00af00\">28</span>, <span style=\"color: #00af00; text-decoration-color: #00af00\">128</span>)   │    <span style=\"color: #00af00; text-decoration-color: #00af00\">396,160</span> │ decoder3[<span style=\"color: #00af00; text-decoration-color: #00af00\">0</span>][<span style=\"color: #00af00; text-decoration-color: #00af00\">0</span>],   │\n",
       "│ (<span style=\"color: #0087ff; text-decoration-color: #0087ff\">TransformerDecode…</span> │                   │            │ encoder5[<span style=\"color: #00af00; text-decoration-color: #00af00\">0</span>][<span style=\"color: #00af00; text-decoration-color: #00af00\">0</span>]    │\n",
       "├─────────────────────┼───────────────────┼────────────┼───────────────────┤\n",
       "│ decoder5            │ (<span style=\"color: #00d7ff; text-decoration-color: #00d7ff\">None</span>, <span style=\"color: #00af00; text-decoration-color: #00af00\">28</span>, <span style=\"color: #00af00; text-decoration-color: #00af00\">128</span>)   │    <span style=\"color: #00af00; text-decoration-color: #00af00\">396,160</span> │ decoder4[<span style=\"color: #00af00; text-decoration-color: #00af00\">0</span>][<span style=\"color: #00af00; text-decoration-color: #00af00\">0</span>],   │\n",
       "│ (<span style=\"color: #0087ff; text-decoration-color: #0087ff\">TransformerDecode…</span> │                   │            │ encoder5[<span style=\"color: #00af00; text-decoration-color: #00af00\">0</span>][<span style=\"color: #00af00; text-decoration-color: #00af00\">0</span>]    │\n",
       "├─────────────────────┼───────────────────┼────────────┼───────────────────┤\n",
       "│ dense (<span style=\"color: #0087ff; text-decoration-color: #0087ff\">Dense</span>)       │ (<span style=\"color: #00d7ff; text-decoration-color: #00d7ff\">None</span>, <span style=\"color: #00af00; text-decoration-color: #00af00\">28</span>, <span style=\"color: #00af00; text-decoration-color: #00af00\">10000</span>) │  <span style=\"color: #00af00; text-decoration-color: #00af00\">1,290,000</span> │ decoder5[<span style=\"color: #00af00; text-decoration-color: #00af00\">0</span>][<span style=\"color: #00af00; text-decoration-color: #00af00\">0</span>]    │\n",
       "└─────────────────────┴───────────────────┴────────────┴───────────────────┘\n",
       "</pre>\n"
      ],
      "text/plain": [
       "┏━━━━━━━━━━━━━━━━━━━━━┳━━━━━━━━━━━━━━━━━━━┳━━━━━━━━━━━━┳━━━━━━━━━━━━━━━━━━━┓\n",
       "┃\u001b[1m \u001b[0m\u001b[1mLayer (type)       \u001b[0m\u001b[1m \u001b[0m┃\u001b[1m \u001b[0m\u001b[1mOutput Shape     \u001b[0m\u001b[1m \u001b[0m┃\u001b[1m \u001b[0m\u001b[1m   Param #\u001b[0m\u001b[1m \u001b[0m┃\u001b[1m \u001b[0m\u001b[1mConnected to     \u001b[0m\u001b[1m \u001b[0m┃\n",
       "┡━━━━━━━━━━━━━━━━━━━━━╇━━━━━━━━━━━━━━━━━━━╇━━━━━━━━━━━━╇━━━━━━━━━━━━━━━━━━━┩\n",
       "│ token_id_enc        │ (\u001b[38;5;45mNone\u001b[0m, \u001b[38;5;34m28\u001b[0m)        │          \u001b[38;5;34m0\u001b[0m │ -                 │\n",
       "│ (\u001b[38;5;33mInputLayer\u001b[0m)        │                   │            │                   │\n",
       "├─────────────────────┼───────────────────┼────────────┼───────────────────┤\n",
       "│ embedding           │ (\u001b[38;5;45mNone\u001b[0m, \u001b[38;5;34m28\u001b[0m, \u001b[38;5;34m128\u001b[0m)   │  \u001b[38;5;34m1,280,000\u001b[0m │ token_id_enc[\u001b[38;5;34m0\u001b[0m][\u001b[38;5;34m…\u001b[0m │\n",
       "│ (\u001b[38;5;33mEmbedding\u001b[0m)         │                   │            │                   │\n",
       "├─────────────────────┼───────────────────┼────────────┼───────────────────┤\n",
       "│ encoder0            │ (\u001b[38;5;45mNone\u001b[0m, \u001b[38;5;34m28\u001b[0m, \u001b[38;5;34m128\u001b[0m)   │    \u001b[38;5;34m329,856\u001b[0m │ embedding[\u001b[38;5;34m0\u001b[0m][\u001b[38;5;34m0\u001b[0m]   │\n",
       "│ (\u001b[38;5;33mTransformerEncode…\u001b[0m │                   │            │                   │\n",
       "├─────────────────────┼───────────────────┼────────────┼───────────────────┤\n",
       "│ encoder1            │ (\u001b[38;5;45mNone\u001b[0m, \u001b[38;5;34m28\u001b[0m, \u001b[38;5;34m128\u001b[0m)   │    \u001b[38;5;34m329,856\u001b[0m │ encoder0[\u001b[38;5;34m0\u001b[0m][\u001b[38;5;34m0\u001b[0m]    │\n",
       "│ (\u001b[38;5;33mTransformerEncode…\u001b[0m │                   │            │                   │\n",
       "├─────────────────────┼───────────────────┼────────────┼───────────────────┤\n",
       "│ encoder2            │ (\u001b[38;5;45mNone\u001b[0m, \u001b[38;5;34m28\u001b[0m, \u001b[38;5;34m128\u001b[0m)   │    \u001b[38;5;34m329,856\u001b[0m │ encoder1[\u001b[38;5;34m0\u001b[0m][\u001b[38;5;34m0\u001b[0m]    │\n",
       "│ (\u001b[38;5;33mTransformerEncode…\u001b[0m │                   │            │                   │\n",
       "├─────────────────────┼───────────────────┼────────────┼───────────────────┤\n",
       "│ encoder3            │ (\u001b[38;5;45mNone\u001b[0m, \u001b[38;5;34m28\u001b[0m, \u001b[38;5;34m128\u001b[0m)   │    \u001b[38;5;34m329,856\u001b[0m │ encoder2[\u001b[38;5;34m0\u001b[0m][\u001b[38;5;34m0\u001b[0m]    │\n",
       "│ (\u001b[38;5;33mTransformerEncode…\u001b[0m │                   │            │                   │\n",
       "├─────────────────────┼───────────────────┼────────────┼───────────────────┤\n",
       "│ token_id_dec        │ (\u001b[38;5;45mNone\u001b[0m, \u001b[38;5;34m28\u001b[0m)        │          \u001b[38;5;34m0\u001b[0m │ -                 │\n",
       "│ (\u001b[38;5;33mInputLayer\u001b[0m)        │                   │            │                   │\n",
       "├─────────────────────┼───────────────────┼────────────┼───────────────────┤\n",
       "│ encoder4            │ (\u001b[38;5;45mNone\u001b[0m, \u001b[38;5;34m28\u001b[0m, \u001b[38;5;34m128\u001b[0m)   │    \u001b[38;5;34m329,856\u001b[0m │ encoder3[\u001b[38;5;34m0\u001b[0m][\u001b[38;5;34m0\u001b[0m]    │\n",
       "│ (\u001b[38;5;33mTransformerEncode…\u001b[0m │                   │            │                   │\n",
       "├─────────────────────┼───────────────────┼────────────┼───────────────────┤\n",
       "│ dec_emb             │ (\u001b[38;5;45mNone\u001b[0m, \u001b[38;5;34m28\u001b[0m, \u001b[38;5;34m128\u001b[0m)   │  \u001b[38;5;34m1,283,584\u001b[0m │ token_id_dec[\u001b[38;5;34m0\u001b[0m][\u001b[38;5;34m…\u001b[0m │\n",
       "│ (\u001b[38;5;33mTokenAndPositionE…\u001b[0m │                   │            │                   │\n",
       "├─────────────────────┼───────────────────┼────────────┼───────────────────┤\n",
       "│ encoder5            │ (\u001b[38;5;45mNone\u001b[0m, \u001b[38;5;34m28\u001b[0m, \u001b[38;5;34m128\u001b[0m)   │    \u001b[38;5;34m329,856\u001b[0m │ encoder4[\u001b[38;5;34m0\u001b[0m][\u001b[38;5;34m0\u001b[0m]    │\n",
       "│ (\u001b[38;5;33mTransformerEncode…\u001b[0m │                   │            │                   │\n",
       "├─────────────────────┼───────────────────┼────────────┼───────────────────┤\n",
       "│ decoder0            │ (\u001b[38;5;45mNone\u001b[0m, \u001b[38;5;34m28\u001b[0m, \u001b[38;5;34m128\u001b[0m)   │    \u001b[38;5;34m396,160\u001b[0m │ dec_emb[\u001b[38;5;34m0\u001b[0m][\u001b[38;5;34m0\u001b[0m],    │\n",
       "│ (\u001b[38;5;33mTransformerDecode…\u001b[0m │                   │            │ encoder5[\u001b[38;5;34m0\u001b[0m][\u001b[38;5;34m0\u001b[0m]    │\n",
       "├─────────────────────┼───────────────────┼────────────┼───────────────────┤\n",
       "│ decoder1            │ (\u001b[38;5;45mNone\u001b[0m, \u001b[38;5;34m28\u001b[0m, \u001b[38;5;34m128\u001b[0m)   │    \u001b[38;5;34m396,160\u001b[0m │ decoder0[\u001b[38;5;34m0\u001b[0m][\u001b[38;5;34m0\u001b[0m],   │\n",
       "│ (\u001b[38;5;33mTransformerDecode…\u001b[0m │                   │            │ encoder5[\u001b[38;5;34m0\u001b[0m][\u001b[38;5;34m0\u001b[0m]    │\n",
       "├─────────────────────┼───────────────────┼────────────┼───────────────────┤\n",
       "│ decoder2            │ (\u001b[38;5;45mNone\u001b[0m, \u001b[38;5;34m28\u001b[0m, \u001b[38;5;34m128\u001b[0m)   │    \u001b[38;5;34m396,160\u001b[0m │ decoder1[\u001b[38;5;34m0\u001b[0m][\u001b[38;5;34m0\u001b[0m],   │\n",
       "│ (\u001b[38;5;33mTransformerDecode…\u001b[0m │                   │            │ encoder5[\u001b[38;5;34m0\u001b[0m][\u001b[38;5;34m0\u001b[0m]    │\n",
       "├─────────────────────┼───────────────────┼────────────┼───────────────────┤\n",
       "│ decoder3            │ (\u001b[38;5;45mNone\u001b[0m, \u001b[38;5;34m28\u001b[0m, \u001b[38;5;34m128\u001b[0m)   │    \u001b[38;5;34m396,160\u001b[0m │ decoder2[\u001b[38;5;34m0\u001b[0m][\u001b[38;5;34m0\u001b[0m],   │\n",
       "│ (\u001b[38;5;33mTransformerDecode…\u001b[0m │                   │            │ encoder5[\u001b[38;5;34m0\u001b[0m][\u001b[38;5;34m0\u001b[0m]    │\n",
       "├─────────────────────┼───────────────────┼────────────┼───────────────────┤\n",
       "│ decoder4            │ (\u001b[38;5;45mNone\u001b[0m, \u001b[38;5;34m28\u001b[0m, \u001b[38;5;34m128\u001b[0m)   │    \u001b[38;5;34m396,160\u001b[0m │ decoder3[\u001b[38;5;34m0\u001b[0m][\u001b[38;5;34m0\u001b[0m],   │\n",
       "│ (\u001b[38;5;33mTransformerDecode…\u001b[0m │                   │            │ encoder5[\u001b[38;5;34m0\u001b[0m][\u001b[38;5;34m0\u001b[0m]    │\n",
       "├─────────────────────┼───────────────────┼────────────┼───────────────────┤\n",
       "│ decoder5            │ (\u001b[38;5;45mNone\u001b[0m, \u001b[38;5;34m28\u001b[0m, \u001b[38;5;34m128\u001b[0m)   │    \u001b[38;5;34m396,160\u001b[0m │ decoder4[\u001b[38;5;34m0\u001b[0m][\u001b[38;5;34m0\u001b[0m],   │\n",
       "│ (\u001b[38;5;33mTransformerDecode…\u001b[0m │                   │            │ encoder5[\u001b[38;5;34m0\u001b[0m][\u001b[38;5;34m0\u001b[0m]    │\n",
       "├─────────────────────┼───────────────────┼────────────┼───────────────────┤\n",
       "│ dense (\u001b[38;5;33mDense\u001b[0m)       │ (\u001b[38;5;45mNone\u001b[0m, \u001b[38;5;34m28\u001b[0m, \u001b[38;5;34m10000\u001b[0m) │  \u001b[38;5;34m1,290,000\u001b[0m │ decoder5[\u001b[38;5;34m0\u001b[0m][\u001b[38;5;34m0\u001b[0m]    │\n",
       "└─────────────────────┴───────────────────┴────────────┴───────────────────┘\n"
      ]
     },
     "metadata": {},
     "output_type": "display_data"
    },
    {
     "data": {
      "text/html": [
       "<pre style=\"white-space:pre;overflow-x:auto;line-height:normal;font-family:Menlo,'DejaVu Sans Mono',consolas,'Courier New',monospace\"><span style=\"font-weight: bold\"> Total params: </span><span style=\"color: #00af00; text-decoration-color: #00af00\">8,209,680</span> (31.32 MB)\n",
       "</pre>\n"
      ],
      "text/plain": [
       "\u001b[1m Total params: \u001b[0m\u001b[38;5;34m8,209,680\u001b[0m (31.32 MB)\n"
      ]
     },
     "metadata": {},
     "output_type": "display_data"
    },
    {
     "data": {
      "text/html": [
       "<pre style=\"white-space:pre;overflow-x:auto;line-height:normal;font-family:Menlo,'DejaVu Sans Mono',consolas,'Courier New',monospace\"><span style=\"font-weight: bold\"> Trainable params: </span><span style=\"color: #00af00; text-decoration-color: #00af00\">8,209,680</span> (31.32 MB)\n",
       "</pre>\n"
      ],
      "text/plain": [
       "\u001b[1m Trainable params: \u001b[0m\u001b[38;5;34m8,209,680\u001b[0m (31.32 MB)\n"
      ]
     },
     "metadata": {},
     "output_type": "display_data"
    },
    {
     "data": {
      "text/html": [
       "<pre style=\"white-space:pre;overflow-x:auto;line-height:normal;font-family:Menlo,'DejaVu Sans Mono',consolas,'Courier New',monospace\"><span style=\"font-weight: bold\"> Non-trainable params: </span><span style=\"color: #00af00; text-decoration-color: #00af00\">0</span> (0.00 B)\n",
       "</pre>\n"
      ],
      "text/plain": [
       "\u001b[1m Non-trainable params: \u001b[0m\u001b[38;5;34m0\u001b[0m (0.00 B)\n"
      ]
     },
     "metadata": {},
     "output_type": "display_data"
    }
   ],
   "source": [
    "dropout_rate = 0.1\n",
    "keras_transformer = create_transformer(EMBEDDING_DIM, NUM_ENC_LAYERS, NUM_DEC_LAYERS, NUM_HEADS, LATENT_DIM, SEQ_LEN, VOCAB_SIZE, dropout_rate)\n",
    "\n",
    "learning_rate = CustomSchedule(d_model=EMBEDDING_DIM, warmup_steps=4000)\n",
    "optimizer = AdamW(learning_rate=learning_rate, beta_1=0.9, beta_2=0.98, epsilon=1e-9, weight_decay = 0.005)\n",
    "keras_transformer.compile(optimizer=optimizer, loss=masked_loss, metrics=[masked_accuracy])"
   ]
  },
  {
   "cell_type": "markdown",
   "metadata": {},
   "source": [
    "As we can see the model has less than 10M parameters (indeed satisfying the constraints) and the training is quite fast.\n",
    "\n",
    "To have an estimate of how the training is going, we can use the validation generator to compute the loss and accuracy on the validation set.\n",
    "\n",
    "A couple of callbacks were also added to ensure the model is saved only if the validation loss is decreasing and for logging the training history.\n",
    "\n",
    "EarlyStopping, in particular, is used to stop the training if the validation loss does not decrease for 5 epochs."
   ]
  },
  {
   "cell_type": "code",
   "execution_count": 22,
   "metadata": {},
   "outputs": [
    {
     "name": "stdout",
     "output_type": "stream",
     "text": [
      "Epoch 1/50\n"
     ]
    },
    {
     "name": "stderr",
     "output_type": "stream",
     "text": [
      "WARNING: All log messages before absl::InitializeLog() is called are written to STDERR\n",
      "I0000 00:00:1718137195.587420  416045 service.cc:145] XLA service 0x76e98c001dd0 initialized for platform CUDA (this does not guarantee that XLA will be used). Devices:\n",
      "I0000 00:00:1718137195.587458  416045 service.cc:153]   StreamExecutor device (0): NVIDIA GeForce RTX 3080, Compute Capability 8.6\n",
      "2024-06-11 20:19:57.799962: I tensorflow/compiler/mlir/tensorflow/utils/dump_mlir_util.cc:268] disabling MLIR crash reproducer, set env var `MLIR_CRASH_REPRODUCER_DIRECTORY` to enable.\n",
      "2024-06-11 20:20:05.345917: I external/local_xla/xla/stream_executor/cuda/cuda_dnn.cc:465] Loaded cuDNN version 8907\n",
      "WARNING: All log messages before absl::InitializeLog() is called are written to STDERR\n",
      "I0000 00:00:1718137278.829380  416199 asm_compiler.cc:369] ptxas warning : Registers are spilled to local memory in function 'triton_gemm_dot_10', 652 bytes spill stores, 824 bytes spill loads\n",
      "\n",
      "I0000 00:00:1718137278.930345  416203 asm_compiler.cc:369] ptxas warning : Registers are spilled to local memory in function 'triton_gemm_dot_411', 412 bytes spill stores, 416 bytes spill loads\n",
      "\n",
      "I0000 00:00:1718137278.934540  416202 asm_compiler.cc:369] ptxas warning : Registers are spilled to local memory in function 'triton_gemm_dot_411', 176 bytes spill stores, 148 bytes spill loads\n",
      "\n",
      "I0000 00:00:1718137280.653398  416198 asm_compiler.cc:369] ptxas warning : Registers are spilled to local memory in function 'triton_gemm_dot_10', 192 bytes spill stores, 192 bytes spill loads\n",
      "\n",
      "I0000 00:00:1718137282.790585  416200 asm_compiler.cc:369] ptxas warning : Registers are spilled to local memory in function 'triton_gemm_dot_672', 4 bytes spill stores, 4 bytes spill loads\n",
      "\n",
      "I0000 00:00:1718137283.037639  416198 asm_compiler.cc:369] ptxas warning : Registers are spilled to local memory in function 'triton_gemm_dot_674', 20 bytes spill stores, 20 bytes spill loads\n",
      "\n",
      "I0000 00:00:1718137283.799321  416199 asm_compiler.cc:369] ptxas warning : Registers are spilled to local memory in function 'triton_gemm_dot_672', 20 bytes spill stores, 20 bytes spill loads\n",
      "\n",
      "I0000 00:00:1718137286.798003  416200 asm_compiler.cc:369] ptxas warning : Registers are spilled to local memory in function 'triton_gemm_dot_674', 40 bytes spill stores, 40 bytes spill loads\n",
      "\n",
      "I0000 00:00:1718137286.907726  416199 asm_compiler.cc:369] ptxas warning : Registers are spilled to local memory in function 'triton_gemm_dot_674', 20 bytes spill stores, 20 bytes spill loads\n",
      "\n",
      "I0000 00:00:1718137286.927684  416203 asm_compiler.cc:369] ptxas warning : Registers are spilled to local memory in function 'triton_gemm_dot_672', 4 bytes spill stores, 4 bytes spill loads\n",
      "\n",
      "I0000 00:00:1718137288.351326  416199 asm_compiler.cc:369] ptxas warning : Registers are spilled to local memory in function 'triton_gemm_dot_674', 24 bytes spill stores, 16 bytes spill loads\n",
      "\n",
      "I0000 00:00:1718137367.471906  416045 asm_compiler.cc:369] ptxas warning : Registers are spilled to local memory in function 'loop_add_subtract_fusion_105', 16 bytes spill stores, 16 bytes spill loads\n",
      "ptxas warning : Registers are spilled to local memory in function 'loop_add_subtract_fusion_104', 448 bytes spill stores, 616 bytes spill loads\n",
      "ptxas warning : Registers are spilled to local memory in function 'loop_add_subtract_fusion_95', 4 bytes spill stores, 40 bytes spill loads\n",
      "\n",
      "I0000 00:00:1718137367.599939  416045 device_compiler.h:188] Compiled cluster using XLA!  This line is logged at most once for the lifetime of the process.\n"
     ]
    },
    {
     "name": "stdout",
     "output_type": "stream",
     "text": [
      "\u001b[1m847/860\u001b[0m \u001b[32m━━━━━━━━━━━━━━━━━━━\u001b[0m\u001b[37m━\u001b[0m \u001b[1m0s\u001b[0m 43ms/step - loss: 8.1357 - masked_accuracy: 0.1326"
     ]
    },
    {
     "name": "stderr",
     "output_type": "stream",
     "text": [
      "I0000 00:00:1718137482.373940  416781 asm_compiler.cc:369] ptxas warning : Registers are spilled to local memory in function 'triton_gemm_dot_672', 4 bytes spill stores, 4 bytes spill loads\n",
      "\n",
      "I0000 00:00:1718137482.910320  416777 asm_compiler.cc:369] ptxas warning : Registers are spilled to local memory in function 'triton_gemm_dot_672', 272 bytes spill stores, 272 bytes spill loads\n",
      "\n",
      "I0000 00:00:1718137486.217036  416780 asm_compiler.cc:369] ptxas warning : Registers are spilled to local memory in function 'triton_gemm_dot_411', 260 bytes spill stores, 268 bytes spill loads\n",
      "\n",
      "I0000 00:00:1718137486.763522  416781 asm_compiler.cc:369] ptxas warning : Registers are spilled to local memory in function 'triton_gemm_dot_674', 212 bytes spill stores, 212 bytes spill loads\n",
      "\n",
      "I0000 00:00:1718137486.914432  416784 asm_compiler.cc:369] ptxas warning : Registers are spilled to local memory in function 'triton_gemm_dot_674', 52 bytes spill stores, 52 bytes spill loads\n",
      "\n",
      "I0000 00:00:1718137493.011333  416778 asm_compiler.cc:369] ptxas warning : Registers are spilled to local memory in function 'triton_gemm_dot_674', 396 bytes spill stores, 396 bytes spill loads\n",
      "\n",
      "I0000 00:00:1718137493.137466  416783 asm_compiler.cc:369] ptxas warning : Registers are spilled to local memory in function 'triton_gemm_dot_10', 28 bytes spill stores, 20 bytes spill loads\n",
      "\n",
      "I0000 00:00:1718137493.803645  416784 asm_compiler.cc:369] ptxas warning : Registers are spilled to local memory in function 'triton_gemm_dot_10', 192 bytes spill stores, 192 bytes spill loads\n",
      "\n",
      "I0000 00:00:1718137494.127338  416780 asm_compiler.cc:369] ptxas warning : Registers are spilled to local memory in function 'triton_gemm_dot_10', 652 bytes spill stores, 824 bytes spill loads\n",
      "\n",
      "I0000 00:00:1718137572.264968  416045 asm_compiler.cc:369] ptxas warning : Registers are spilled to local memory in function 'loop_add_subtract_fusion_106', 16 bytes spill stores, 16 bytes spill loads\n",
      "ptxas warning : Registers are spilled to local memory in function 'loop_add_subtract_fusion_105', 4136 bytes spill stores, 4552 bytes spill loads\n",
      "ptxas warning : Registers are spilled to local memory in function '__cuda_sm3x_div_rn_noftz_f32_slowpath', 52 bytes spill stores, 48 bytes spill loads\n",
      "ptxas warning : Registers are spilled to local memory in function 'loop_add_subtract_fusion_95', 4 bytes spill stores, 40 bytes spill loads\n",
      "\n"
     ]
    },
    {
     "name": "stdout",
     "output_type": "stream",
     "text": [
      "\u001b[1m860/860\u001b[0m \u001b[32m━━━━━━━━━━━━━━━━━━━━\u001b[0m\u001b[37m\u001b[0m \u001b[1m0s\u001b[0m 239ms/step - loss: 8.1179 - masked_accuracy: 0.1342"
     ]
    },
    {
     "name": "stderr",
     "output_type": "stream",
     "text": [
      "I0000 00:00:1718137585.152822  417220 asm_compiler.cc:369] ptxas warning : Registers are spilled to local memory in function 'triton_gemm_dot_10', 192 bytes spill stores, 192 bytes spill loads\n",
      "\n",
      "I0000 00:00:1718137586.218012  417220 asm_compiler.cc:369] ptxas warning : Registers are spilled to local memory in function 'triton_gemm_dot_10', 28 bytes spill stores, 20 bytes spill loads\n",
      "\n",
      "I0000 00:00:1718137587.294935  417222 asm_compiler.cc:369] ptxas warning : Registers are spilled to local memory in function 'triton_gemm_dot_10', 476 bytes spill stores, 280 bytes spill loads\n",
      "\n",
      "I0000 00:00:1718137588.305128  417222 asm_compiler.cc:369] ptxas warning : Registers are spilled to local memory in function 'triton_gemm_dot_10', 4 bytes spill stores, 4 bytes spill loads\n",
      "\n"
     ]
    },
    {
     "name": "stdout",
     "output_type": "stream",
     "text": [
      "\n",
      "Epoch 1: val_loss improved from inf to 5.00559, saving model to keras_transformer_custom_loss_v3.weights.h5\n",
      "\u001b[1m860/860\u001b[0m \u001b[32m━━━━━━━━━━━━━━━━━━━━\u001b[0m\u001b[37m\u001b[0m \u001b[1m445s\u001b[0m 264ms/step - loss: 8.1166 - masked_accuracy: 0.1343 - val_loss: 5.0056 - val_masked_accuracy: 0.4172\n",
      "Epoch 2/50\n",
      "\u001b[1m859/860\u001b[0m \u001b[32m━━━━━━━━━━━━━━━━━━━\u001b[0m\u001b[37m━\u001b[0m \u001b[1m0s\u001b[0m 43ms/step - loss: 4.5734 - masked_accuracy: 0.4690\n",
      "Epoch 2: val_loss improved from 5.00559 to 3.31271, saving model to keras_transformer_custom_loss_v3.weights.h5\n",
      "\u001b[1m860/860\u001b[0m \u001b[32m━━━━━━━━━━━━━━━━━━━━\u001b[0m\u001b[37m\u001b[0m \u001b[1m41s\u001b[0m 47ms/step - loss: 4.5724 - masked_accuracy: 0.4692 - val_loss: 3.3127 - val_masked_accuracy: 0.6287\n",
      "Epoch 3/50\n",
      "\u001b[1m860/860\u001b[0m \u001b[32m━━━━━━━━━━━━━━━━━━━━\u001b[0m\u001b[37m\u001b[0m \u001b[1m0s\u001b[0m 44ms/step - loss: 3.1928 - masked_accuracy: 0.6407\n",
      "Epoch 3: val_loss improved from 3.31271 to 2.64583, saving model to keras_transformer_custom_loss_v3.weights.h5\n",
      "\u001b[1m860/860\u001b[0m \u001b[32m━━━━━━━━━━━━━━━━━━━━\u001b[0m\u001b[37m\u001b[0m \u001b[1m41s\u001b[0m 47ms/step - loss: 3.1926 - masked_accuracy: 0.6407 - val_loss: 2.6458 - val_masked_accuracy: 0.7193\n",
      "Epoch 4/50\n",
      "\u001b[1m859/860\u001b[0m \u001b[32m━━━━━━━━━━━━━━━━━━━\u001b[0m\u001b[37m━\u001b[0m \u001b[1m0s\u001b[0m 43ms/step - loss: 2.6284 - masked_accuracy: 0.7166\n",
      "Epoch 4: val_loss improved from 2.64583 to 2.39065, saving model to keras_transformer_custom_loss_v3.weights.h5\n",
      "\u001b[1m860/860\u001b[0m \u001b[32m━━━━━━━━━━━━━━━━━━━━\u001b[0m\u001b[37m\u001b[0m \u001b[1m41s\u001b[0m 47ms/step - loss: 2.6283 - masked_accuracy: 0.7166 - val_loss: 2.3906 - val_masked_accuracy: 0.7578\n",
      "Epoch 5/50\n",
      "\u001b[1m859/860\u001b[0m \u001b[32m━━━━━━━━━━━━━━━━━━━\u001b[0m\u001b[37m━\u001b[0m \u001b[1m0s\u001b[0m 44ms/step - loss: 2.3529 - masked_accuracy: 0.7566\n",
      "Epoch 5: val_loss improved from 2.39065 to 2.22575, saving model to keras_transformer_custom_loss_v3.weights.h5\n",
      "\u001b[1m860/860\u001b[0m \u001b[32m━━━━━━━━━━━━━━━━━━━━\u001b[0m\u001b[37m\u001b[0m \u001b[1m41s\u001b[0m 48ms/step - loss: 2.3528 - masked_accuracy: 0.7567 - val_loss: 2.2257 - val_masked_accuracy: 0.7803\n",
      "Epoch 6/50\n",
      "\u001b[1m859/860\u001b[0m \u001b[32m━━━━━━━━━━━━━━━━━━━\u001b[0m\u001b[37m━\u001b[0m \u001b[1m0s\u001b[0m 44ms/step - loss: 2.1601 - masked_accuracy: 0.7864\n",
      "Epoch 6: val_loss improved from 2.22575 to 2.12274, saving model to keras_transformer_custom_loss_v3.weights.h5\n",
      "\u001b[1m860/860\u001b[0m \u001b[32m━━━━━━━━━━━━━━━━━━━━\u001b[0m\u001b[37m\u001b[0m \u001b[1m41s\u001b[0m 47ms/step - loss: 2.1601 - masked_accuracy: 0.7864 - val_loss: 2.1227 - val_masked_accuracy: 0.7970\n",
      "Epoch 7/50\n",
      "\u001b[1m859/860\u001b[0m \u001b[32m━━━━━━━━━━━━━━━━━━━\u001b[0m\u001b[37m━\u001b[0m \u001b[1m0s\u001b[0m 44ms/step - loss: 2.0211 - masked_accuracy: 0.8112\n",
      "Epoch 7: val_loss improved from 2.12274 to 2.04076, saving model to keras_transformer_custom_loss_v3.weights.h5\n",
      "\u001b[1m860/860\u001b[0m \u001b[32m━━━━━━━━━━━━━━━━━━━━\u001b[0m\u001b[37m\u001b[0m \u001b[1m41s\u001b[0m 47ms/step - loss: 2.0211 - masked_accuracy: 0.8112 - val_loss: 2.0408 - val_masked_accuracy: 0.8101\n",
      "Epoch 8/50\n",
      "\u001b[1m859/860\u001b[0m \u001b[32m━━━━━━━━━━━━━━━━━━━\u001b[0m\u001b[37m━\u001b[0m \u001b[1m0s\u001b[0m 44ms/step - loss: 1.9279 - masked_accuracy: 0.8290\n",
      "Epoch 8: val_loss improved from 2.04076 to 2.00241, saving model to keras_transformer_custom_loss_v3.weights.h5\n",
      "\u001b[1m860/860\u001b[0m \u001b[32m━━━━━━━━━━━━━━━━━━━━\u001b[0m\u001b[37m\u001b[0m \u001b[1m40s\u001b[0m 47ms/step - loss: 1.9279 - masked_accuracy: 0.8290 - val_loss: 2.0024 - val_masked_accuracy: 0.8169\n",
      "Epoch 9/50\n",
      "\u001b[1m859/860\u001b[0m \u001b[32m━━━━━━━━━━━━━━━━━━━\u001b[0m\u001b[37m━\u001b[0m \u001b[1m0s\u001b[0m 44ms/step - loss: 1.8619 - masked_accuracy: 0.8427\n",
      "Epoch 9: val_loss improved from 2.00241 to 1.96721, saving model to keras_transformer_custom_loss_v3.weights.h5\n",
      "\u001b[1m860/860\u001b[0m \u001b[32m━━━━━━━━━━━━━━━━━━━━\u001b[0m\u001b[37m\u001b[0m \u001b[1m40s\u001b[0m 47ms/step - loss: 1.8619 - masked_accuracy: 0.8427 - val_loss: 1.9672 - val_masked_accuracy: 0.8262\n",
      "Epoch 10/50\n",
      "\u001b[1m859/860\u001b[0m \u001b[32m━━━━━━━━━━━━━━━━━━━\u001b[0m\u001b[37m━\u001b[0m \u001b[1m0s\u001b[0m 44ms/step - loss: 1.8061 - masked_accuracy: 0.8549\n",
      "Epoch 10: val_loss improved from 1.96721 to 1.95786, saving model to keras_transformer_custom_loss_v3.weights.h5\n",
      "\u001b[1m860/860\u001b[0m \u001b[32m━━━━━━━━━━━━━━━━━━━━\u001b[0m\u001b[37m\u001b[0m \u001b[1m40s\u001b[0m 47ms/step - loss: 1.8061 - masked_accuracy: 0.8549 - val_loss: 1.9579 - val_masked_accuracy: 0.8286\n",
      "Epoch 11/50\n",
      "\u001b[1m859/860\u001b[0m \u001b[32m━━━━━━━━━━━━━━━━━━━\u001b[0m\u001b[37m━\u001b[0m \u001b[1m0s\u001b[0m 43ms/step - loss: 1.7636 - masked_accuracy: 0.8651\n",
      "Epoch 11: val_loss improved from 1.95786 to 1.95143, saving model to keras_transformer_custom_loss_v3.weights.h5\n",
      "\u001b[1m860/860\u001b[0m \u001b[32m━━━━━━━━━━━━━━━━━━━━\u001b[0m\u001b[37m\u001b[0m \u001b[1m40s\u001b[0m 47ms/step - loss: 1.7637 - masked_accuracy: 0.8651 - val_loss: 1.9514 - val_masked_accuracy: 0.8319\n",
      "Epoch 12/50\n",
      "\u001b[1m860/860\u001b[0m \u001b[32m━━━━━━━━━━━━━━━━━━━━\u001b[0m\u001b[37m\u001b[0m \u001b[1m0s\u001b[0m 44ms/step - loss: 1.7306 - masked_accuracy: 0.8728\n",
      "Epoch 12: val_loss did not improve from 1.95143\n",
      "\u001b[1m860/860\u001b[0m \u001b[32m━━━━━━━━━━━━━━━━━━━━\u001b[0m\u001b[37m\u001b[0m \u001b[1m38s\u001b[0m 44ms/step - loss: 1.7306 - masked_accuracy: 0.8728 - val_loss: 1.9557 - val_masked_accuracy: 0.8305\n",
      "Epoch 13/50\n",
      "\u001b[1m859/860\u001b[0m \u001b[32m━━━━━━━━━━━━━━━━━━━\u001b[0m\u001b[37m━\u001b[0m \u001b[1m0s\u001b[0m 44ms/step - loss: 1.6982 - masked_accuracy: 0.8812\n",
      "Epoch 13: val_loss improved from 1.95143 to 1.93591, saving model to keras_transformer_custom_loss_v3.weights.h5\n",
      "\u001b[1m860/860\u001b[0m \u001b[32m━━━━━━━━━━━━━━━━━━━━\u001b[0m\u001b[37m\u001b[0m \u001b[1m41s\u001b[0m 47ms/step - loss: 1.6983 - masked_accuracy: 0.8812 - val_loss: 1.9359 - val_masked_accuracy: 0.8357\n",
      "Epoch 14/50\n",
      "\u001b[1m859/860\u001b[0m \u001b[32m━━━━━━━━━━━━━━━━━━━\u001b[0m\u001b[37m━\u001b[0m \u001b[1m0s\u001b[0m 43ms/step - loss: 1.6717 - masked_accuracy: 0.8882\n",
      "Epoch 14: val_loss did not improve from 1.93591\n",
      "\u001b[1m860/860\u001b[0m \u001b[32m━━━━━━━━━━━━━━━━━━━━\u001b[0m\u001b[37m\u001b[0m \u001b[1m38s\u001b[0m 44ms/step - loss: 1.6717 - masked_accuracy: 0.8882 - val_loss: 1.9387 - val_masked_accuracy: 0.8386\n",
      "Epoch 15/50\n",
      "\u001b[1m859/860\u001b[0m \u001b[32m━━━━━━━━━━━━━━━━━━━\u001b[0m\u001b[37m━\u001b[0m \u001b[1m0s\u001b[0m 44ms/step - loss: 1.6509 - masked_accuracy: 0.8934\n",
      "Epoch 15: val_loss did not improve from 1.93591\n",
      "\u001b[1m860/860\u001b[0m \u001b[32m━━━━━━━━━━━━━━━━━━━━\u001b[0m\u001b[37m\u001b[0m \u001b[1m38s\u001b[0m 45ms/step - loss: 1.6509 - masked_accuracy: 0.8934 - val_loss: 1.9482 - val_masked_accuracy: 0.8392\n",
      "Epoch 16/50\n",
      "\u001b[1m860/860\u001b[0m \u001b[32m━━━━━━━━━━━━━━━━━━━━\u001b[0m\u001b[37m\u001b[0m \u001b[1m0s\u001b[0m 44ms/step - loss: 1.6313 - masked_accuracy: 0.8983\n",
      "Epoch 16: val_loss did not improve from 1.93591\n",
      "\u001b[1m860/860\u001b[0m \u001b[32m━━━━━━━━━━━━━━━━━━━━\u001b[0m\u001b[37m\u001b[0m \u001b[1m38s\u001b[0m 45ms/step - loss: 1.6313 - masked_accuracy: 0.8983 - val_loss: 1.9422 - val_masked_accuracy: 0.8409\n",
      "Epoch 17/50\n",
      "\u001b[1m860/860\u001b[0m \u001b[32m━━━━━━━━━━━━━━━━━━━━\u001b[0m\u001b[37m\u001b[0m \u001b[1m0s\u001b[0m 43ms/step - loss: 1.6135 - masked_accuracy: 0.9034\n",
      "Epoch 17: val_loss did not improve from 1.93591\n",
      "\u001b[1m860/860\u001b[0m \u001b[32m━━━━━━━━━━━━━━━━━━━━\u001b[0m\u001b[37m\u001b[0m \u001b[1m38s\u001b[0m 44ms/step - loss: 1.6135 - masked_accuracy: 0.9034 - val_loss: 1.9437 - val_masked_accuracy: 0.8403\n",
      "Epoch 18/50\n",
      "\u001b[1m860/860\u001b[0m \u001b[32m━━━━━━━━━━━━━━━━━━━━\u001b[0m\u001b[37m\u001b[0m \u001b[1m0s\u001b[0m 43ms/step - loss: 1.5964 - masked_accuracy: 0.9080\n",
      "Epoch 18: val_loss did not improve from 1.93591\n",
      "\u001b[1m860/860\u001b[0m \u001b[32m━━━━━━━━━━━━━━━━━━━━\u001b[0m\u001b[37m\u001b[0m \u001b[1m38s\u001b[0m 44ms/step - loss: 1.5965 - masked_accuracy: 0.9080 - val_loss: 1.9473 - val_masked_accuracy: 0.8415\n"
     ]
    }
   ],
   "source": [
    "name = 'keras_transformer_custom_loss_v3'\n",
    "\n",
    "history = keras_transformer.fit(\n",
    "    train_generator,\n",
    "    epochs=EPOCHS,\n",
    "    validation_data=val_generator,\n",
    "    callbacks=[\n",
    "        tf.keras.callbacks.EarlyStopping(monitor=\"val_loss\", mode = \"min\", patience=5, restore_best_weights=True),\n",
    "        tf.keras.callbacks.ModelCheckpoint(f'{name}.weights.h5', verbose=1, save_best_only=True, save_weights_only=True),\n",
    "        tf.keras.callbacks.CSVLogger(f\"{name}.csv\")\n",
    "    ]\n",
    ")"
   ]
  },
  {
   "cell_type": "markdown",
   "metadata": {},
   "source": [
    "## Loss and Accuracy Plot\n",
    "\n",
    "The training history is shown below in graphs showing loss and accuracy on the training and validation sets.\n",
    "Also, the learning rate schedule is shown with respect to the number of steps."
   ]
  },
  {
   "cell_type": "code",
   "execution_count": 27,
   "metadata": {},
   "outputs": [
    {
     "name": "stdout",
     "output_type": "stream",
     "text": [
      "total steps:  4608\n",
      "total epochs:  18\n"
     ]
    },
    {
     "data": {
      "image/png": "[encoded data removed]",
      "text/plain": [
       "<Figure size 1500x500 with 2 Axes>"
      ]
     },
     "metadata": {},
     "output_type": "display_data"
    }
   ],
   "source": [
    "#print number of steps and epochs done\n",
    "print(\"total steps: \", len(history.history[\"loss\"])*BATCH_SIZE)\n",
    "print(\"total epochs: \", len(history.history[\"loss\"]))\n",
    "#plot accuracy\n",
    "plt.figure(figsize=(15,5))\n",
    "plt.subplot(1,2,1)\n",
    "plt.plot(history.history['masked_accuracy'], label=\"train\")\n",
    "plt.plot(history.history['val_masked_accuracy'], label=\"validation\")\n",
    "#draw a red point at the best epoch for validation accuracy\n",
    "best_epoch=np.argmax(history.history['val_masked_accuracy'])\n",
    "plt.plot(best_epoch,history.history['val_masked_accuracy'][best_epoch],'ro', label=\"best epoch\")\n",
    "plt.title('model accuracy')\n",
    "plt.ylabel('accuracy')\n",
    "plt.xlabel('epoch')\n",
    "plt.legend()\n",
    "#plot loss\n",
    "plt.subplot(1,2,2)\n",
    "plt.plot(history.history['loss'], label=\"train\")\n",
    "plt.plot(history.history['val_loss'], label=\"validation\")\n",
    "#draw a red point at the best epoch for validation loss\n",
    "best_epoch=np.argmin(history.history['val_loss'])\n",
    "plt.plot(best_epoch,history.history['val_loss'][best_epoch],'ro', label=\"best epoch\")\n",
    "plt.title('model loss')\n",
    "plt.ylabel('loss')\n",
    "plt.xlabel('epoch')\n",
    "plt.legend()\n",
    "plt.show()"
   ]
  },
  {
   "cell_type": "markdown",
   "metadata": {},
   "source": [
    "The model showed a good performance on the validation set with respect to the training set, and the loss decreased quite fast. However, starting from epoch 12 the loss on the validation set started to increase, and the training was stopped at epoch 17 due to the EarlyStopping callback."
   ]
  },
  {
   "cell_type": "markdown",
   "metadata": {},
   "source": [
    "## Testing on unseen data\n",
    "\n",
    "Let's test the model on some unseen data. We can start taking a sentence from the dataset in the very ending part (235000+) and choose randomly 3k instances."
   ]
  },
  {
   "cell_type": "code",
   "execution_count": 24,
   "metadata": {},
   "outputs": [],
   "source": [
    "# Choose a random subset of 3k samples to evaluate the model\n",
    "\n",
    "start_idx = 235000\n",
    "end_idx = shuffled_data.shape[0]\n",
    "\n",
    "random_sample = np.random.choice(np.arange(start_idx, end_idx), size=3000, replace=False) # Without replacement"
   ]
  },
  {
   "cell_type": "markdown",
   "metadata": {},
   "source": [
    "Then we can take the indices of the randomly selected instances and use them to extract the sentences from the dataset. "
   ]
  },
  {
   "cell_type": "code",
   "execution_count": 25,
   "metadata": {},
   "outputs": [],
   "source": [
    "test_generator = DataGenerator(shuffled_data[random_sample], batch_size=32)"
   ]
  },
  {
   "cell_type": "markdown",
   "metadata": {},
   "source": [
    "## Computing score\n",
    "\n",
    "To test the performance of the model, we can query the test generator. Then the testing phase involves query multiple times the model with the `predict` method and then compute the score. Each time we predict the next token and we use the tokens found so far as input for the next prediction (autoregressive loop). In this way we can generate the entire sentence token by token. "
   ]
  },
  {
   "cell_type": "code",
   "execution_count": 30,
   "metadata": {},
   "outputs": [
    {
     "name": "stdout",
     "output_type": "stream",
     "text": [
      "\n",
      "Number of samples:  3000\n",
      "Average score:  0.5099087170938909\n",
      "Standard deviation:  0.280557539956132\n"
     ]
    }
   ],
   "source": [
    "scores = []\n",
    "\n",
    "for inputs, _ in test_generator:\n",
    "    encoder_in, decoder_in = inputs\n",
    "    current_batch_size = encoder_in.shape[0]\n",
    "    \n",
    "    output_array = tf.TensorArray(dtype=tf.int64, size=0, dynamic_size=True)\n",
    "    start = np.array(vocab.index(Tokens.START), ndmin=1)\n",
    "    output_array = output_array.write(0, tf.tile(start, [current_batch_size]))\n",
    "\n",
    "    for i in range(SEQ_LEN):\n",
    "        output = tf.transpose(output_array.stack())\n",
    "        predictions = keras_transformer.predict((encoder_in, output), verbose=0)\n",
    "\n",
    "        predictions = predictions[:, -1:, :]\n",
    "\n",
    "        predicted_id = tf.argmax(predictions, axis=-1)\n",
    "\n",
    "        output_array = output_array.write(i+1, predicted_id[:, 0])\n",
    "\n",
    "        end_mask = tf.reduce_any(tf.equal(predicted_id, vocab.index(Tokens.END)), axis=-1)\n",
    "        if tf.reduce_all(end_mask):\n",
    "            break\n",
    "\n",
    "    output = tf.transpose(output_array.stack())\n",
    "    output = output.numpy()\n",
    "    output = detokenizer(output)\n",
    "    y = detokenizer(decoder_in)\n",
    "\n",
    "    for predicted, real in zip(output, y):\n",
    "        predicted = predicted.replace(Tokens.START, \"\").replace(Tokens.END, \"\").replace(f\" {Tokens.COMMA}\", \",\").strip()\n",
    "        real = real.replace(Tokens.START, \"\").replace(Tokens.END, \"\").replace(f\" {Tokens.COMMA}\", \",\").strip()\n",
    "        scores.append(score(real, predicted))\n",
    "\n",
    "print(\"\\nNumber of samples: \", len(scores))\n",
    "print(\"Average score: \", np.mean(scores))\n",
    "print(\"Standard deviation: \", np.std(scores))"
   ]
  },
  {
   "cell_type": "markdown",
   "metadata": {},
   "source": [
    "## Results\n",
    "\n",
    "### Score ~0.51 with std 0.28 evaluated on 3000 instances of the test set (randomly selected)."
   ]
  },
  {
   "cell_type": "markdown",
   "metadata": {},
   "source": [
    "## Conclusions\n",
    "\n",
    "The proposed Transformer model showed a good performance in reconstructing the original sentence from a shuffled version of it.\n",
    "\n",
    "Other approaches like Seq2Seq with LSTM encoder and decoder failed to caputer long-term dependencies and syntactic structures of the sentences. The transformer model instead showed a good performance in this task.\n",
    "\n",
    "The proposed Transformer model has less than 10M parameters and is able to achieve a good performance on the test set. A more hyperparametrized model could achieve better results but would not satisfy the constraints of the project.\n",
    "\n",
    "The model could be further improved by increasing the number of layers and the dimension of the latent space, but this would require more parameters and would not satisfy the constraints of the project. Moreover, the `EMBEDDING_DIM` parameter had a cruicial role in determining the number of parameters of the model. Increasing the embedding dimension was leading to a Transformer of around 15M parameters having barely a +0.01 increase in the score.\n",
    "\n",
    "Among the two solutions, I choose the one with the lowest number of parameters as it was more challenging and interesting to work with.\n",
    "\n",
    "> Note: The model could be further improved by injecting into the loss function some preference over longer sequences rather than just the correct token in the correct position. This could be done by adding a term to the loss function that penalizes the model for generating shorter sequences. This would require a custom loss function (still differentiable) and would be a good improvement to the model. I tried this approach but it required more time to train the model and indeed it was just a +0.01 on the score (not worth the time). The idea behind this intuition was that the model could have been more penalized for generating shorter sequences and thus it would have been forced to generate longer sequences and it was all done by using the 1-complement of the `score` function added as a multiplicative factor to the loss value."
   ]
  }
 ],
 "metadata": {
  "kernelspec": {
   "display_name": "Python 3",
   "language": "python",
   "name": "python3"
  },
  "language_info": {
   "codemirror_mode": {
    "name": "ipython",
    "version": 3
   },
   "file_extension": ".py",
   "mimetype": "text/x-python",
   "name": "python",
   "nbconvert_exporter": "python",
   "pygments_lexer": "ipython3",
   "version": "3.10.12"
  }
 },
 "nbformat": 4,
 "nbformat_minor": 2
}
